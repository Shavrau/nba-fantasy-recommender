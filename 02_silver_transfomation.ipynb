{
 "cells": [
  {
   "cell_type": "markdown",
   "metadata": {
    "application/vnd.databricks.v1+cell": {
     "cellMetadata": {
      "byteLimit": 2048000,
      "rowLimit": 10000
     },
     "inputWidgets": {},
     "nuid": "a11f8470-267c-40bf-a183-6c5fe1ac9721",
     "showTitle": false,
     "tableResultSettingsMap": {},
     "title": ""
    }
   },
   "source": [
    "Carregamento das tabelas Bronze"
   ]
  },
  {
   "cell_type": "code",
   "execution_count": 0,
   "metadata": {
    "application/vnd.databricks.v1+cell": {
     "cellMetadata": {
      "byteLimit": 2048000,
      "rowLimit": 10000
     },
     "inputWidgets": {},
     "nuid": "4ad7a6cf-0eab-4bfb-b806-c10939af44b9",
     "showTitle": false,
     "tableResultSettingsMap": {},
     "title": ""
    }
   },
   "outputs": [],
   "source": [
    "from pyspark.sql.functions import col, trim, lower, regexp_replace, sum, avg, first, expr\n",
    "\n",
    "stats_df = spark.read.table(\"workspace.nba_lakehouse_bronze.nba_stats_bronze\")\n",
    "adp_df = spark.read.table(\"workspace.nba_lakehouse_bronze.nba_adp_bronze\")\n",
    "proj_df = spark.read.table(\"workspace.nba_lakehouse_bronze.nba_projections_bronze\")\n",
    "injury_df = spark.read.table(\"workspace.nba_lakehouse_bronze.nba_injury_report\")\n"
   ]
  },
  {
   "cell_type": "markdown",
   "metadata": {
    "application/vnd.databricks.v1+cell": {
     "cellMetadata": {
      "byteLimit": 2048000,
      "rowLimit": 10000
     },
     "inputWidgets": {},
     "nuid": "ba3bdd10-5e3a-4a6a-a801-c46334a68c57",
     "showTitle": false,
     "tableResultSettingsMap": {},
     "title": ""
    }
   },
   "source": [
    "Visualização inicial"
   ]
  },
  {
   "cell_type": "code",
   "execution_count": 0,
   "metadata": {
    "application/vnd.databricks.v1+cell": {
     "cellMetadata": {
      "byteLimit": 2048000,
      "rowLimit": 10000
     },
     "inputWidgets": {},
     "nuid": "2ef9e557-865f-440d-99e2-8cd42ed1f6db",
     "showTitle": false,
     "tableResultSettingsMap": {},
     "title": ""
    }
   },
   "outputs": [],
   "source": [
    "stats_df.printSchema()"
   ]
  },
  {
   "cell_type": "code",
   "execution_count": 0,
   "metadata": {
    "application/vnd.databricks.v1+cell": {
     "cellMetadata": {
      "byteLimit": 2048000,
      "rowLimit": 10000
     },
     "inputWidgets": {},
     "nuid": "68c979fe-a5cc-4469-983e-43898fe46295",
     "showTitle": false,
     "tableResultSettingsMap": {},
     "title": ""
    }
   },
   "outputs": [],
   "source": [
    "display(stats_df)"
   ]
  },
  {
   "cell_type": "markdown",
   "metadata": {
    "application/vnd.databricks.v1+cell": {
     "cellMetadata": {
      "byteLimit": 2048000,
      "rowLimit": 10000
     },
     "inputWidgets": {},
     "nuid": "e6d224b4-d9ae-4429-9e15-f980fadedd95",
     "showTitle": false,
     "tableResultSettingsMap": {},
     "title": ""
    }
   },
   "source": [
    "Funções de limpeza dos DataFrames"
   ]
  },
  {
   "cell_type": "code",
   "execution_count": 0,
   "metadata": {
    "application/vnd.databricks.v1+cell": {
     "cellMetadata": {
      "byteLimit": 2048000,
      "rowLimit": 10000
     },
     "inputWidgets": {},
     "nuid": "afe38580-9694-45b6-ac0e-153d154f6356",
     "showTitle": false,
     "tableResultSettingsMap": {},
     "title": ""
    }
   },
   "outputs": [],
   "source": [
    "import unicodedata\n",
    "from pyspark.sql.functions import col, trim, lower, regexp_replace, first, expr, when, row_number, udf\n",
    "from pyspark.sql.window import Window\n",
    "from pyspark.sql.types import StringType\n",
    "\n",
    "def remove_accents(input_str):\n",
    "    if input_str is None:\n",
    "        return None\n",
    "    nfkd_form = unicodedata.normalize('NFKD', input_str)\n",
    "    return u\"\".join([c for c in nfkd_form if not unicodedata.combining(c)])\n",
    "\n",
    "remove_accents_udf = udf(remove_accents, StringType())\n",
    "\n",
    "def clean_stats(df):\n",
    "    player_window = Window.partitionBy(\"Player\").orderBy(when(col(\"Team\").rlike(\"^\\\\d+TM$\"), 0).otherwise(1))\n",
    "    df_filtered = df.withColumn(\"row_num\", row_number().over(player_window)).filter(col(\"row_num\") == 1).drop(\"row_num\")\n",
    "\n",
    "    return (\n",
    "        df_filtered.withColumn(\"normalized_player\", remove_accents_udf(col(\"Player\")))\n",
    "          .withColumn(\"Player_Key\", trim(lower(regexp_replace(col(\"normalized_player\"), r\"[^\\w\\s]\", \"\"))))\n",
    "          .groupBy(\"Player_Key\", \"Player\")\n",
    "          .agg(\n",
    "              first(\"Pos\").alias(\"Pos\"),\n",
    "              first(\"G\").alias(\"G\"),\n",
    "              first(\"MP\").alias(\"MP\"),\n",
    "              first(\"PTS\").alias(\"PTS\"),\n",
    "              first(\"TRB\").alias(\"TRB\"),\n",
    "              first(\"AST\").alias(\"AST\"),\n",
    "              first(\"STL\").alias(\"STL\"),\n",
    "              first(\"BLK\").alias(\"BLK\"),\n",
    "              first(\"TOV\").alias(\"TOV\"),\n",
    "              first(\"FG\").alias(\"FG\"),\n",
    "              first(\"FGA\").alias(\"FGA\"),\n",
    "              first(\"FT\").alias(\"FT\"),\n",
    "              first(\"FTA\").alias(\"FTA\"),\n",
    "              first(\"3P\").alias(\"3P\"),\n",
    "              first(\"3PA\").alias(\"3PA\")\n",
    "          )\n",
    "          .withColumn(\"FG_PCT\", expr(\"try_divide(FG, FGA)\"))\n",
    "          .withColumn(\"3P_PCT\", expr(\"try_divide(`3P`, `3PA`)\"))\n",
    "          .withColumn(\"FT_PCT\", expr(\"try_divide(FT, FTA)\"))\n",
    "          .select(\n",
    "              \"Player_Key\", \"Player\", \"Pos\", \"G\", \"MP\",\n",
    "              \"PTS\", \"TRB\", \"AST\", \"STL\", \"BLK\", \"TOV\",\n",
    "              \"FG_PCT\", \"3P_PCT\", \"FT_PCT\"\n",
    "          )\n",
    "    )\n",
    "\n",
    "def clean_adp(df):\n",
    "    return (\n",
    "        df.withColumn(\"normalized_player\", remove_accents_udf(col(\"Player\")))\n",
    "          .withColumn(\"Player_Key\", trim(lower(regexp_replace(col(\"normalized_player\"), r\"[^\\w\\s]\", \"\"))))\n",
    "          .select(\n",
    "              col(\"Player_Key\"),\n",
    "              col(\"Rank\").alias(\"ADP_Rank\"),\n",
    "              col(\"AVG\").alias(\"ADP_Avg\")\n",
    "          )\n",
    "    )\n",
    "\n",
    "def clean_proj(df):\n",
    "    return (\n",
    "        df.withColumn(\"normalized_player\", remove_accents_udf(col(\"Player\")))\n",
    "          .withColumn(\"Player_Key\", trim(lower(regexp_replace(col(\"normalized_player\"), r\"[^\\w\\s]\", \"\"))))\n",
    "          .select(\n",
    "              \"Player_Key\",\n",
    "              col(\"PTS\").alias(\"Projected_PTS\"),\n",
    "              col(\"TRB\").alias(\"Projected_TRB\"),\n",
    "              col(\"AST\").alias(\"Projected_AST\"),\n",
    "              col(\"STL\").alias(\"Projected_STL\"),\n",
    "              col(\"BLK\").alias(\"Projected_BLK\"),\n",
    "              col(\"TOV\").alias(\"Projected_TOV\")\n",
    "          )\n",
    "    )"
   ]
  },
  {
   "cell_type": "code",
   "execution_count": 0,
   "metadata": {
    "application/vnd.databricks.v1+cell": {
     "cellMetadata": {
      "byteLimit": 2048000,
      "rowLimit": 10000
     },
     "inputWidgets": {},
     "nuid": "0a783125-2b5e-4e3b-9314-b01015048747",
     "showTitle": false,
     "tableResultSettingsMap": {},
     "title": ""
    }
   },
   "outputs": [],
   "source": [
    "from pyspark.sql.functions import col, trim, lower, regexp_replace, concat, lit, concat_ws\n",
    "\n",
    "def transform_player_info_to_silver(bronze_table_name):\n",
    "    \n",
    "    df_bronze = spark.read.table(bronze_table_name)\n",
    "    \n",
    "    df_with_key = df_bronze.withColumn(\n",
    "        \"Player_Name\",\n",
    "        concat_ws(' ', col(\"fname\"), col(\"lname\"))\n",
    "    ).withColumn(\n",
    "        \"Player_Key\",\n",
    "        trim(lower(regexp_replace(col(\"Player_Name\"), r'[^\\w\\s]', '')))\n",
    "    )\n",
    "    \n",
    "    df_with_url = df_with_key.withColumn(\n",
    "        \"Image_URL\",\n",
    "        concat(\n",
    "            lit(\"https://cdn.nba.com/headshots/nba/latest/1040x760/\"),\n",
    "            col(\"playerid\"),\n",
    "            lit(\".png\")\n",
    "        )\n",
    "    )\n",
    "    \n",
    "    df_silver_players = df_with_url.select(\n",
    "        col(\"Player_Key\"),\n",
    "        col(\"playerid\").alias(\"Player_ID_NBA\"),\n",
    "        col(\"Player_Name\"),\n",
    "        col(\"Image_URL\"),\n",
    "        col(\"position\").alias(\"Position\"),\n",
    "        col(\"height\").alias(\"Height_Str\"),\n",
    "        col(\"weight\").alias(\"Weight_kg\"),\n",
    "        col(\"birthday\").alias(\"Birthdate\"),\n",
    "        col(\"country\").alias(\"Country\"),\n",
    "        col(\"school\").alias(\"School\"),\n",
    "        col(\"draft_year\").alias(\"Draft_Year\"),\n",
    "        col(\"draft_round\").alias(\"Draft_Round\"),\n",
    "        col(\"draft_number\").alias(\"Draft_Number\")\n",
    "    )\n",
    "    \n",
    "    return df_silver_players"
   ]
  },
  {
   "cell_type": "code",
   "execution_count": 0,
   "metadata": {
    "application/vnd.databricks.v1+cell": {
     "cellMetadata": {
      "byteLimit": 2048000,
      "rowLimit": 10000
     },
     "inputWidgets": {},
     "nuid": "9ddcc63d-f2a0-4c7f-8f3d-6b5cf7e495cd",
     "showTitle": false,
     "tableResultSettingsMap": {},
     "title": ""
    }
   },
   "outputs": [],
   "source": [
    "from pyspark.sql.functions import col, trim, lower, regexp_replace\n",
    "\n",
    "def add_injury_status(main_df, injury_df):\n",
    "    \n",
    "    injury_processed_df = injury_df.withColumn(\n",
    "        \"Player_Key\",\n",
    "        trim(lower(regexp_replace(remove_accents_udf(col(\"Player\")), r\"[^\\w\\s]\", \"\")))\n",
    "    ).select(\"Player_Key\", \"Status\")\n",
    "\n",
    "    df_with_status = main_df.join(injury_processed_df, \"Player_Key\", \"left\")\n",
    "    \n",
    "    df_final = df_with_status.na.fill({\"Status\": \"Healthy\"})\n",
    "    \n",
    "    return df_final"
   ]
  },
  {
   "cell_type": "markdown",
   "metadata": {
    "application/vnd.databricks.v1+cell": {
     "cellMetadata": {
      "byteLimit": 2048000,
      "rowLimit": 10000
     },
     "inputWidgets": {},
     "nuid": "cffddce1-4820-4123-afd0-2fc7a0ca4519",
     "showTitle": false,
     "tableResultSettingsMap": {},
     "title": ""
    }
   },
   "source": [
    "Execução da limpeza"
   ]
  },
  {
   "cell_type": "code",
   "execution_count": 0,
   "metadata": {
    "application/vnd.databricks.v1+cell": {
     "cellMetadata": {
      "byteLimit": 2048000,
      "rowLimit": 10000
     },
     "inputWidgets": {},
     "nuid": "068f9700-193b-428d-b429-f9b33c068688",
     "showTitle": false,
     "tableResultSettingsMap": {},
     "title": ""
    }
   },
   "outputs": [],
   "source": [
    "stats_clean = clean_stats(stats_df)\n",
    "adp_clean = clean_adp(adp_df)\n",
    "proj_clean = clean_proj(proj_df)\n"
   ]
  },
  {
   "cell_type": "code",
   "execution_count": 0,
   "metadata": {
    "application/vnd.databricks.v1+cell": {
     "cellMetadata": {
      "byteLimit": 2048000,
      "rowLimit": 10000
     },
     "inputWidgets": {},
     "nuid": "8dc19dd9-e3ff-42cf-ba1c-7b7c23713e9c",
     "showTitle": false,
     "tableResultSettingsMap": {},
     "title": ""
    }
   },
   "outputs": [],
   "source": [
    "# display(stats_clean)\n",
    "# display(adp_clean)\n",
    "# display(proj_clean)"
   ]
  },
  {
   "cell_type": "markdown",
   "metadata": {
    "application/vnd.databricks.v1+cell": {
     "cellMetadata": {
      "byteLimit": 2048000,
      "rowLimit": 10000
     },
     "inputWidgets": {},
     "nuid": "807d3282-189d-4f42-bce8-ddc174083ef2",
     "showTitle": false,
     "tableResultSettingsMap": {},
     "title": ""
    }
   },
   "source": [
    "Junção e geração do DataFrame Silver"
   ]
  },
  {
   "cell_type": "code",
   "execution_count": 0,
   "metadata": {
    "application/vnd.databricks.v1+cell": {
     "cellMetadata": {
      "byteLimit": 2048000,
      "rowLimit": 10000
     },
     "inputWidgets": {},
     "nuid": "bce652da-b25d-4544-a5d8-dc0ae3d95107",
     "showTitle": false,
     "tableResultSettingsMap": {},
     "title": ""
    }
   },
   "outputs": [],
   "source": [
    "silver_df = (\n",
    "    stats_clean.join(adp_clean, \"Player_Key\", \"left\")\n",
    "               .join(proj_clean, \"Player_Key\", \"left\")\n",
    "               .filter(col(\"ADP_Rank\").isNotNull())\n",
    "               .select(\n",
    "                   \"Player_Key\",\n",
    "                   \"Player\",\n",
    "                   \"Pos\",\n",
    "                   \"G\",\n",
    "                   col(\"PTS\").alias(\"Past_Season_PTS\"),\n",
    "                   col(\"TRB\").alias(\"Past_Season_TRB\"),\n",
    "                   col(\"AST\").alias(\"Past_Season_AST\"),\n",
    "                   col(\"STL\").alias(\"Past_Season_STL\"),\n",
    "                   col(\"BLK\").alias(\"Past_Season_BLK\"),\n",
    "                   col(\"TOV\").alias(\"Past_Season_TOV\"),\n",
    "                   \"Projected_PTS\",\n",
    "                   \"Projected_TRB\",\n",
    "                   \"Projected_AST\",\n",
    "                   \"Projected_STL\",\n",
    "                   \"Projected_BLK\",\n",
    "                   \"Projected_TOV\",\n",
    "                   \"ADP_Rank\",\n",
    "                   \"ADP_Avg\"\n",
    "               )\n",
    ")"
   ]
  },
  {
   "cell_type": "code",
   "execution_count": 0,
   "metadata": {
    "application/vnd.databricks.v1+cell": {
     "cellMetadata": {
      "byteLimit": 2048000,
      "rowLimit": 10000
     },
     "inputWidgets": {},
     "nuid": "0a9d3259-d47b-4f3a-8fce-30dbe89676e1",
     "showTitle": false,
     "tableResultSettingsMap": {},
     "title": ""
    }
   },
   "outputs": [],
   "source": [
    "# display(injury_df)"
   ]
  },
  {
   "cell_type": "code",
   "execution_count": 0,
   "metadata": {
    "application/vnd.databricks.v1+cell": {
     "cellMetadata": {
      "byteLimit": 2048000,
      "rowLimit": 10000
     },
     "inputWidgets": {},
     "nuid": "77e9ff70-cf55-4042-adf9-e219dd2a395c",
     "showTitle": false,
     "tableResultSettingsMap": {},
     "title": ""
    }
   },
   "outputs": [],
   "source": [
    "# silver_df_final = add_injury_status(silver_df, injury_df)"
   ]
  },
  {
   "cell_type": "markdown",
   "metadata": {
    "application/vnd.databricks.v1+cell": {
     "cellMetadata": {
      "byteLimit": 2048000,
      "rowLimit": 10000
     },
     "inputWidgets": {},
     "nuid": "53b395a8-1aa2-40fc-b0fb-c8ddc11b36b5",
     "showTitle": false,
     "tableResultSettingsMap": {},
     "title": ""
    }
   },
   "source": [
    "Exportação para delta table"
   ]
  },
  {
   "cell_type": "code",
   "execution_count": 0,
   "metadata": {
    "application/vnd.databricks.v1+cell": {
     "cellMetadata": {
      "byteLimit": 2048000,
      "rowLimit": 10000
     },
     "inputWidgets": {},
     "nuid": "4681943a-652e-4d2e-af6e-5d4d77524abb",
     "showTitle": false,
     "tableResultSettingsMap": {},
     "title": ""
    }
   },
   "outputs": [],
   "source": [
    "display(silver_df)"
   ]
  },
  {
   "cell_type": "code",
   "execution_count": 0,
   "metadata": {
    "application/vnd.databricks.v1+cell": {
     "cellMetadata": {
      "byteLimit": 2048000,
      "rowLimit": 10000
     },
     "inputWidgets": {},
     "nuid": "7a6481ca-edcb-47d6-817c-476e0b90caf5",
     "showTitle": false,
     "tableResultSettingsMap": {},
     "title": ""
    }
   },
   "outputs": [],
   "source": [
    "def save_dataframe_as_table(df, table_name, mode=\"overwrite\"):\n",
    "    df.write.mode(mode).format(\"delta\").saveAsTable(table_name)\n",
    "    print(f\"Tabela '{table_name}' salva com sucesso.\")\n",
    "\n",
    "silver_dim_table_name = \"workspace.nba_lakehouse_silver.dim_jogadores_silver\"\n",
    "df_silver_player_dims = transform_player_info_to_silver(\"workspace.nba_lakehouse_bronze.kaggle_player_info_bronze\")\n",
    "\n",
    "save_dataframe_as_table(df_silver_player_dims, silver_dim_table_name)"
   ]
  },
  {
   "cell_type": "code",
   "execution_count": 0,
   "metadata": {
    "application/vnd.databricks.v1+cell": {
     "cellMetadata": {
      "byteLimit": 2048000,
      "rowLimit": 10000
     },
     "inputWidgets": {},
     "nuid": "e949ba9c-71e8-40f7-bcca-404e18928ef4",
     "showTitle": false,
     "tableResultSettingsMap": {},
     "title": ""
    }
   },
   "outputs": [],
   "source": [
    "silver_df = spark.table(\"workspace.nba_lakehouse_silver.fato_ranking_fantasy\")\n",
    "display(silver_df)"
   ]
  }
 ],
 "metadata": {
  "application/vnd.databricks.v1+notebook": {
   "computePreferences": null,
   "dashboards": [],
   "environmentMetadata": {
    "base_environment": "",
    "environment_version": "4"
   },
   "inputWidgetPreferences": null,
   "language": "python",
   "notebookMetadata": {
    "pythonIndentUnit": 4
   },
   "notebookName": "02_silver_transformation",
   "widgets": {}
  },
  "language_info": {
   "name": "python"
  }
 },
 "nbformat": 4,
 "nbformat_minor": 0
}
