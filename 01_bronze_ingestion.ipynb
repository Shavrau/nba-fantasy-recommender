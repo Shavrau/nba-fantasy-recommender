{
 "cells": [
  {
   "cell_type": "code",
   "execution_count": 0,
   "metadata": {
    "application/vnd.databricks.v1+cell": {
     "cellMetadata": {
      "byteLimit": 2048000,
      "implicitDf": true,
      "rowLimit": 10000
     },
     "inputWidgets": {},
     "nuid": "439fdbed-4b3f-49b1-988b-efcaf0bf39ee",
     "showTitle": false,
     "tableResultSettingsMap": {},
     "title": ""
    }
   },
   "outputs": [],
   "source": [
    "%sql\n",
    "CREATE OR REPLACE TABLE workspace.nba_lakehouse_bronze.nba_stats_bronze AS\n",
    "SELECT * FROM read_files(\n",
    "  '/Volumes/workspace/nba_lakehouse_bronze/raw/2024 - NBA Player Stats.csv',\n",
    "  format => 'csv',\n",
    "  header => true,\n",
    "  inferSchema => true\n",
    ");\n",
    "\n",
    "SELECT * FROM workspace.nba_lakehouse_bronze.nba_stats_bronze LIMIT 10;\n"
   ]
  },
  {
   "cell_type": "code",
   "execution_count": 0,
   "metadata": {
    "application/vnd.databricks.v1+cell": {
     "cellMetadata": {
      "byteLimit": 2048000,
      "rowLimit": 10000
     },
     "inputWidgets": {},
     "nuid": "5d490c63-7dc1-4685-b9cc-6b98a861e0e2",
     "showTitle": false,
     "tableResultSettingsMap": {},
     "title": ""
    }
   },
   "outputs": [],
   "source": [
    "df_bronze_players = spark.read.table(\"workspace.nba_lakehouse_bronze.kaggle_player_info_bronze\")\n",
    "\n",
    "print(\"Schema da Tabela Bronze (Kaggle):\")\n",
    "df_bronze_players.printSchema()\n",
    "\n",
    "print(\"\\nDados de Exemplo:\")\n",
    "display(df_bronze_players.limit(5))"
   ]
  },
  {
   "cell_type": "code",
   "execution_count": 0,
   "metadata": {
    "application/vnd.databricks.v1+cell": {
     "cellMetadata": {
      "byteLimit": 2048000,
      "implicitDf": true,
      "rowLimit": 10000
     },
     "inputWidgets": {},
     "nuid": "72ae2cee-b18a-44b7-8c7c-e983fc3a2658",
     "showTitle": false,
     "tableResultSettingsMap": {},
     "title": ""
    }
   },
   "outputs": [],
   "source": [
    "%sql\n",
    "CREATE OR REPLACE TABLE workspace.nba_lakehouse_bronze.nba_adp_bronze AS\n",
    "SELECT * FROM read_files(\n",
    "  '/Volumes/workspace/nba_lakehouse_bronze/raw/FantasyPros_2025_Overall_NBA_ADP_Rankings.csv',\n",
    "  format => 'csv',\n",
    "  header => true,\n",
    "  inferSchema => true\n",
    ");\n",
    "\n",
    "SELECT * FROM workspace.nba_lakehouse_bronze.nba_adp_bronze LIMIT 10;\n"
   ]
  },
  {
   "cell_type": "code",
   "execution_count": 0,
   "metadata": {
    "application/vnd.databricks.v1+cell": {
     "cellMetadata": {
      "byteLimit": 2048000,
      "implicitDf": true,
      "rowLimit": 10000
     },
     "inputWidgets": {},
     "nuid": "38ba9c1f-e9f4-4fc5-a762-f80f42ce40f0",
     "showTitle": false,
     "tableResultSettingsMap": {},
     "title": ""
    }
   },
   "outputs": [],
   "source": [
    "%sql\n",
    "CREATE OR REPLACE TABLE workspace.nba_lakehouse_bronze.nba_projections_bronze AS\n",
    "SELECT * FROM read_files(\n",
    "  '/Volumes/workspace/nba_lakehouse_bronze/raw/nba_projections_2025_26.csv',\n",
    "  format => 'csv',\n",
    "  header => true,\n",
    "  inferSchema => true\n",
    ");\n",
    "\n",
    "SELECT * FROM workspace.nba_lakehouse_bronze.nba_projections_bronze LIMIT 10;\n"
   ]
  },
  {
   "cell_type": "code",
   "execution_count": 0,
   "metadata": {
    "application/vnd.databricks.v1+cell": {
     "cellMetadata": {
      "byteLimit": 2048000,
      "implicitDf": true,
      "rowLimit": 10000
     },
     "inputWidgets": {},
     "nuid": "f1c09ff7-25ec-4145-9b3c-0b01e967a447",
     "showTitle": false,
     "tableResultSettingsMap": {},
     "title": ""
    }
   },
   "outputs": [],
   "source": [
    "%sql\n",
    "CREATE OR REPLACE TABLE workspace.nba_lakehouse_bronze.kaggle_player_info_bronze AS\n",
    "SELECT * FROM read_files(\n",
    "  '/Volumes/workspace/nba_lakehouse_bronze/raw/players.csv',\n",
    "  format => 'csv',\n",
    "  header => true,\n",
    "  inferSchema => true\n",
    ");\n",
    "\n",
    "SELECT * FROM workspace.nba_lakehouse_bronze.kaggle_player_info_bronze LIMIT 10;"
   ]
  }
 ],
 "metadata": {
  "application/vnd.databricks.v1+notebook": {
   "computePreferences": null,
   "dashboards": [],
   "environmentMetadata": {
    "base_environment": "",
    "environment_version": "4"
   },
   "inputWidgetPreferences": null,
   "language": "python",
   "notebookMetadata": {
    "mostRecentlyExecutedCommandWithImplicitDF": {
     "commandId": 5918629516860387,
     "dataframes": [
      "_sqldf"
     ]
    },
    "pythonIndentUnit": 4
   },
   "notebookName": "01_bronze_ingestion",
   "widgets": {}
  },
  "language_info": {
   "name": "python"
  }
 },
 "nbformat": 4,
 "nbformat_minor": 0
}
