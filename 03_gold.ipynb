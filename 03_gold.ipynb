{
 "cells": [
  {
   "cell_type": "markdown",
   "metadata": {
    "application/vnd.databricks.v1+cell": {
     "cellMetadata": {
      "byteLimit": 2048000,
      "rowLimit": 10000
     },
     "inputWidgets": {},
     "nuid": "73c06ce5-718d-4683-9c50-6da9e7bf4cda",
     "showTitle": false,
     "tableResultSettingsMap": {},
     "title": ""
    }
   },
   "source": [
    "Criação da Camada Gold"
   ]
  },
  {
   "cell_type": "code",
   "execution_count": 0,
   "metadata": {
    "application/vnd.databricks.v1+cell": {
     "cellMetadata": {
      "byteLimit": 2048000,
      "rowLimit": 10000
     },
     "inputWidgets": {},
     "nuid": "fef78b00-d5e9-4776-9423-e24a91b44718",
     "showTitle": false,
     "tableResultSettingsMap": {},
     "title": ""
    }
   },
   "outputs": [],
   "source": [
    "from pyspark.sql.functions import col, round, row_number\n",
    "from pyspark.sql.window import Window\n",
    "from pyspark.sql.types import DoubleType\n",
    "\n",
    "silver_df = spark.table(\"workspace.nba_lakehouse_silver.fato_ranking_fantasy\")\n",
    "dim_players_silver_df = spark.table(\"workspace.nba_lakehouse_silver.dim_jogadores_silver\")\n",
    "\n",
    "print(\"Tabelas 'nba_silver' e 'dim_jogadores_silver' carregadas.\")"
   ]
  },
  {
   "cell_type": "code",
   "execution_count": 0,
   "metadata": {
    "application/vnd.databricks.v1+cell": {
     "cellMetadata": {
      "byteLimit": 2048000,
      "rowLimit": 10000
     },
     "inputWidgets": {},
     "nuid": "c78738d9-80cd-4c04-8cb3-1a03ab25ee02",
     "showTitle": false,
     "tableResultSettingsMap": {},
     "title": ""
    }
   },
   "outputs": [],
   "source": [
    "display(silver_df.limit(5))\n",
    "display(dim_players_silver_df.limit(5))"
   ]
  },
  {
   "cell_type": "code",
   "execution_count": 0,
   "metadata": {
    "application/vnd.databricks.v1+cell": {
     "cellMetadata": {
      "byteLimit": 2048000,
      "rowLimit": 10000
     },
     "inputWidgets": {},
     "nuid": "a05faad5-26a7-4889-a760-5f607e546561",
     "showTitle": false,
     "tableResultSettingsMap": {},
     "title": ""
    }
   },
   "outputs": [],
   "source": [
    "import pyspark.sql.functions as F\n",
    "from pyspark.sql.window import Window\n",
    "\n",
    "def save_dataframe_as_table(df, table_name, mode=\"overwrite\"):\n",
    "    df.write.mode(mode).format(\"delta\").option(\"overwriteSchema\", \"true\").saveAsTable(table_name)\n",
    "    print(f\"Tabela '{table_name}' salva com sucesso (com overwriteSchema=true).\")"
   ]
  },
  {
   "cell_type": "markdown",
   "metadata": {
    "application/vnd.databricks.v1+cell": {
     "cellMetadata": {
      "byteLimit": 2048000,
      "rowLimit": 10000
     },
     "inputWidgets": {},
     "nuid": "81e452e3-e2c9-40df-8c46-551c36c391fb",
     "showTitle": false,
     "tableResultSettingsMap": {},
     "title": ""
    }
   },
   "source": [
    "Cálculo de Métricas de Negócio"
   ]
  },
  {
   "cell_type": "code",
   "execution_count": 0,
   "metadata": {
    "application/vnd.databricks.v1+cell": {
     "cellMetadata": {
      "byteLimit": 2048000,
      "rowLimit": 10000
     },
     "inputWidgets": {},
     "nuid": "abe55b33-2f9f-4bfd-98f4-4f49681aa51e",
     "showTitle": false,
     "tableResultSettingsMap": {},
     "title": ""
    }
   },
   "outputs": [],
   "source": [
    "def create_gold_metrics(df):\n",
    "    \n",
    "    df_casted = df.withColumn(\"Projected_PTS\", col(\"Projected_PTS\").cast(DoubleType())) \\\n",
    "                  .withColumn(\"Projected_TRB\", col(\"Projected_TRB\").cast(DoubleType())) \\\n",
    "                  .withColumn(\"Projected_AST\", col(\"Projected_AST\").cast(DoubleType())) \\\n",
    "                  .withColumn(\"Projected_STL\", col(\"Projected_STL\").cast(DoubleType())) \\\n",
    "                  .withColumn(\"Projected_BLK\", col(\"Projected_BLK\").cast(DoubleType())) \\\n",
    "                  .withColumn(\"Projected_TOV\", col(\"Projected_TOV\").cast(DoubleType()))\n",
    "\n",
    "    fantasy_df = df_casted.withColumn(\n",
    "        \"Fantasy_Score_Projected\",\n",
    "        round(\n",
    "            (col(\"Projected_PTS\") * 1) +\n",
    "            (col(\"Projected_TRB\") * 1.2) +\n",
    "            (col(\"Projected_AST\") * 1.5) +\n",
    "            (col(\"Projected_STL\") * 3) +\n",
    "            (col(\"Projected_BLK\") * 3) -\n",
    "            (col(\"Projected_TOV\") * 1),\n",
    "            2\n",
    "        )\n",
    "    )\n",
    "\n",
    "    window_spec = Window.orderBy(col(\"Fantasy_Score_Projected\").desc())\n",
    "\n",
    "    analysis_df = fantasy_df.withColumn(\"Fantasy_Rank\", row_number().over(window_spec)) \\\n",
    "                            .withColumn(\"Value_vs_ADP\", col(\"ADP_Rank\") - col(\"Fantasy_Rank\"))\n",
    "    \n",
    "    return analysis_df"
   ]
  },
  {
   "cell_type": "markdown",
   "metadata": {
    "application/vnd.databricks.v1+cell": {
     "cellMetadata": {
      "byteLimit": 2048000,
      "rowLimit": 10000
     },
     "inputWidgets": {},
     "nuid": "eb5186c7-a829-4e45-a0af-849f7daff9e5",
     "showTitle": false,
     "tableResultSettingsMap": {},
     "title": ""
    }
   },
   "source": [
    "Criação da tabela"
   ]
  },
  {
   "cell_type": "code",
   "execution_count": 0,
   "metadata": {
    "application/vnd.databricks.v1+cell": {
     "cellMetadata": {
      "byteLimit": 2048000,
      "rowLimit": 10000
     },
     "inputWidgets": {},
     "nuid": "234f1060-9adf-4257-ac31-63c3d18b386b",
     "showTitle": false,
     "tableResultSettingsMap": {},
     "title": ""
    }
   },
   "outputs": [],
   "source": [
    "gold_df = create_gold_metrics(silver_df)\n",
    "\n",
    "fato_ranking_fantasy = gold_df.select(\n",
    "    \"Player_Key\",\n",
    "    \"Player\",\n",
    "    \"Pos\",\n",
    "    \"G\",\n",
    "    \"Past_Season_PTS\",\n",
    "    \"Past_Season_TRB\",\n",
    "    \"Past_Season_AST\",\n",
    "    \"Past_Season_STL\",\n",
    "    \"Past_Season_BLK\",\n",
    "    \"Past_Season_TOV\",\n",
    "    \"Projected_PTS\",\n",
    "    \"Projected_TRB\",\n",
    "    \"Projected_AST\",\n",
    "    \"Projected_STL\",\n",
    "    \"Projected_BLK\",\n",
    "    \"Projected_TOV\",\n",
    "    \"ADP_Rank\",\n",
    "    \"ADP_Avg\",\n",
    "    \"Fantasy_Score_Projected\",\n",
    "    \"Fantasy_Rank\",\n",
    "    \"Value_vs_ADP\"\n",
    ")\n",
    "\n",
    "print(\"DataFrame 'fato_ranking_fantasy' criado.\")\n",
    "display(fato_ranking_fantasy.limit(5))"
   ]
  },
  {
   "cell_type": "code",
   "execution_count": 0,
   "metadata": {
    "application/vnd.databricks.v1+cell": {
     "cellMetadata": {
      "byteLimit": 2048000,
      "rowLimit": 10000
     },
     "inputWidgets": {},
     "nuid": "eae3e201-1aa4-4ddc-adf8-a0153cc9633c",
     "showTitle": false,
     "tableResultSettingsMap": {},
     "title": ""
    }
   },
   "outputs": [],
   "source": [
    "from pyspark.sql.functions import expr\n",
    "\n",
    "unpivot_expr_past = \"stack(6, 'PTS', Past_Season_PTS, 'TRB', Past_Season_TRB, 'AST', Past_Season_AST, 'STL', Past_Season_STL, 'BLK', Past_Season_BLK, 'TOV', Past_Season_TOV) as (Stat_Category, Value)\"\n",
    "\n",
    "# Adiciona Player_Key ao select\n",
    "past_df_unpivoted = gold_df.select(\"Player_Key\", \"Player\", expr(unpivot_expr_past)) \\\n",
    "                             .withColumn(\"Metric_Type\", expr(\"'Past Season'\"))\n",
    "\n",
    "unpivot_expr_proj = \"stack(6, 'PTS', Projected_PTS, 'TRB', Projected_TRB, 'AST', Projected_AST, 'STL', Projected_STL, 'BLK', Projected_BLK, 'TOV', Projected_TOV) as (Stat_Category, Value)\"\n",
    "\n",
    "# Adiciona Player_Key ao select\n",
    "proj_df_unpivoted = gold_df.select(\"Player_Key\", \"Player\", expr(unpivot_expr_proj)) \\\n",
    "                             .withColumn(\"Metric_Type\", expr(\"'Projected'\"))\n",
    "\n",
    "player_metrics_unpivoted_df = past_df_unpivoted.unionByName(proj_df_unpivoted)\n",
    "\n",
    "print(\"Tabela 'player_metrics_unpivoted' criada com sucesso.\")\n",
    "display(player_metrics_unpivoted_df)"
   ]
  },
  {
   "cell_type": "code",
   "execution_count": 0,
   "metadata": {
    "application/vnd.databricks.v1+cell": {
     "cellMetadata": {
      "byteLimit": 2048000,
      "rowLimit": 10000
     },
     "inputWidgets": {},
     "nuid": "72f7e021-cb83-4abe-b912-1fa2fd285529",
     "showTitle": false,
     "tableResultSettingsMap": {},
     "title": ""
    }
   },
   "outputs": [],
   "source": [
    "print(\"Criando a tabela dim_jogadores_gold...\")\n",
    "\n",
    "gold_metrics_df = gold_df.select(\n",
    "    \"Player_Key\",\n",
    "    \"Fantasy_Score_Projected\",\n",
    "    \"Fantasy_Rank\",\n",
    "    \"Value_vs_ADP\"\n",
    ")\n",
    "\n",
    "dim_jogadores_gold_df = dim_players_silver_df.join(\n",
    "    gold_metrics_df,\n",
    "    \"Player_Key\",\n",
    "    \"left\" \n",
    ").select(\n",
    "    dim_players_silver_df.Player_Key,\n",
    "    dim_players_silver_df.Player_ID_NBA,\n",
    "    col(\"Player_Name\").alias(\"Player\"),\n",
    "    dim_players_silver_df.Image_URL,\n",
    "    col(\"Position\").alias(\"Pos\"),\n",
    "    dim_players_silver_df.Height_Str,\n",
    "    dim_players_silver_df.Weight_kg,\n",
    "    dim_players_silver_df.Birthdate,\n",
    "    dim_players_silver_df.Country,\n",
    "    dim_players_silver_df.School,\n",
    "    dim_players_silver_df.Draft_Year,\n",
    "    gold_metrics_df.Fantasy_Score_Projected,\n",
    "    gold_metrics_df.Fantasy_Rank,\n",
    "    gold_metrics_df.Value_vs_ADP\n",
    ").orderBy(col(\"Fantasy_Rank\").asc_nulls_last())\n",
    "\n",
    "print(\"DataFrame 'dim_jogadores_gold_df' criado.\")\n",
    "display(dim_jogadores_gold_df.limit(10))"
   ]
  },
  {
   "cell_type": "markdown",
   "metadata": {
    "application/vnd.databricks.v1+cell": {
     "cellMetadata": {
      "byteLimit": 2048000,
      "rowLimit": 10000
     },
     "inputWidgets": {},
     "nuid": "ba170552-47bd-407b-a53f-fe34ea9faf70",
     "showTitle": false,
     "tableResultSettingsMap": {},
     "title": ""
    }
   },
   "source": [
    "exportação\n"
   ]
  },
  {
   "cell_type": "code",
   "execution_count": 0,
   "metadata": {
    "application/vnd.databricks.v1+cell": {
     "cellMetadata": {
      "byteLimit": 2048000,
      "rowLimit": 10000
     },
     "inputWidgets": {},
     "nuid": "b9473aeb-69a4-4de9-95b6-fe72d24be8b9",
     "showTitle": false,
     "tableResultSettingsMap": {},
     "title": ""
    }
   },
   "outputs": [],
   "source": [
    "print(\"Salvando tabelas na camada Gold...\")\n",
    "\n",
    "save_dataframe_as_table(fato_ranking_fantasy, \"workspace.nba_lakehouse_gold.fato_ranking_fantasy\")\n",
    "save_dataframe_as_table(player_metrics_unpivoted_df, \"workspace.nba_lakehouse_gold.player_metrics_unpivoted\")\n",
    "save_dataframe_as_table(dim_jogadores_gold_df, \"workspace.nba_lakehouse_gold.dim_jogadores\")\n",
    "\n",
    "print(\"\\n--- Processo da Camada Gold Concluído. Todas as tabelas foram salvas. ---\")"
   ]
  }
 ],
 "metadata": {
  "application/vnd.databricks.v1+notebook": {
   "computePreferences": null,
   "dashboards": [],
   "environmentMetadata": {
    "base_environment": "",
    "environment_version": "4"
   },
   "inputWidgetPreferences": null,
   "language": "python",
   "notebookMetadata": {
    "pythonIndentUnit": 4
   },
   "notebookName": "03_gold",
   "widgets": {}
  },
  "language_info": {
   "name": "python"
  }
 },
 "nbformat": 4,
 "nbformat_minor": 0
}
